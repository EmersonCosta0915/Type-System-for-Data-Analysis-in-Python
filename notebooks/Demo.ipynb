{
 "cells": [
  {
   "cell_type": "code",
   "execution_count": 2,
   "metadata": {},
   "outputs": [],
   "source": [
    "from tenzing.core.model_implementations.typesets import tenzing_standard, tenzing_geometry_set\n",
    "from tenzing.core.typesets import infer_type\n",
    "from tenzing.core.model_implementations import *\n",
    "import pandas as pd\n",
    "import numpy as np\n",
    "import networkx as nx\n",
    "import datetime\n",
    "import itertools\n",
    "\n",
    "\n",
    "%load_ext autoreload\n",
    "%autoreload 2\n",
    "%matplotlib inline"
   ]
  },
  {
   "cell_type": "code",
   "execution_count": 3,
   "metadata": {},
   "outputs": [
    {
     "data": {
      "text/html": [
       "<div>\n",
       "<style scoped>\n",
       "    .dataframe tbody tr th:only-of-type {\n",
       "        vertical-align: middle;\n",
       "    }\n",
       "\n",
       "    .dataframe tbody tr th {\n",
       "        vertical-align: top;\n",
       "    }\n",
       "\n",
       "    .dataframe thead th {\n",
       "        text-align: right;\n",
       "    }\n",
       "</style>\n",
       "<table border=\"1\" class=\"dataframe\">\n",
       "  <thead>\n",
       "    <tr style=\"text-align: right;\">\n",
       "      <th></th>\n",
       "      <th>item_id</th>\n",
       "      <th>item_cost</th>\n",
       "      <th>item_name</th>\n",
       "      <th>sale_date</th>\n",
       "      <th>store_location</th>\n",
       "      <th>COGS</th>\n",
       "      <th>is_still_available</th>\n",
       "      <th>is_expired</th>\n",
       "      <th>complex_record</th>\n",
       "    </tr>\n",
       "  </thead>\n",
       "  <tbody>\n",
       "    <tr>\n",
       "      <th>0</th>\n",
       "      <td>1</td>\n",
       "      <td>2.1</td>\n",
       "      <td>orange</td>\n",
       "      <td>2011-01-01</td>\n",
       "      <td>POINT (12 42)</td>\n",
       "      <td>nan</td>\n",
       "      <td>True</td>\n",
       "      <td>True</td>\n",
       "      <td>(1+2j)</td>\n",
       "    </tr>\n",
       "    <tr>\n",
       "      <th>1</th>\n",
       "      <td>1</td>\n",
       "      <td>3.5</td>\n",
       "      <td>orange</td>\n",
       "      <td>2012-01-01</td>\n",
       "      <td>POINT (100 42.723)</td>\n",
       "      <td>1.1</td>\n",
       "      <td>False</td>\n",
       "      <td>false</td>\n",
       "      <td>(3+4j)</td>\n",
       "    </tr>\n",
       "    <tr>\n",
       "      <th>2</th>\n",
       "      <td>3</td>\n",
       "      <td>4.0</td>\n",
       "      <td>apple</td>\n",
       "      <td>2013-01-01</td>\n",
       "      <td>POINT (0 0)</td>\n",
       "      <td>2.1</td>\n",
       "      <td>True</td>\n",
       "      <td>False</td>\n",
       "      <td>(5+6j)</td>\n",
       "    </tr>\n",
       "  </tbody>\n",
       "</table>\n",
       "</div>"
      ],
      "text/plain": [
       "   item_id  item_cost item_name  sale_date      store_location COGS  \\\n",
       "0        1        2.1    orange 2011-01-01       POINT (12 42)  nan   \n",
       "1        1        3.5    orange 2012-01-01  POINT (100 42.723)  1.1   \n",
       "2        3        4.0     apple 2013-01-01         POINT (0 0)  2.1   \n",
       "\n",
       "   is_still_available is_expired  complex_record  \n",
       "0                True       True          (1+2j)  \n",
       "1               False      false          (3+4j)  \n",
       "2                True      False          (5+6j)  "
      ]
     },
     "execution_count": 3,
     "metadata": {},
     "output_type": "execute_result"
    }
   ],
   "source": [
    "df = pd.DataFrame({'item_id': [1, 1, 3], \n",
    "                   'item_cost': [2.1, 3.5, 4], \n",
    "                   'item_name': ['orange', 'orange', 'apple'],\n",
    "                   'sale_date': pd.to_datetime([datetime.date(2011,1,1), datetime.date(2012, 1, 1), datetime.date(2013,1,1)]),\n",
    "                   'store_location': pd.Series(['POINT (12 42)', 'POINT (100 42.723)', 'POINT (0 0)']),\n",
    "                   'COGS': pd.Series([np.nan, 1.1, 2.1]).astype(str),\n",
    "                   'is_still_available': [True, False, True],\n",
    "                   'is_expired': ['True', 'false', 'False'],\n",
    "                   'complex_record': [np.complex(1, 2), np.complex(3,4), np.complex(5, 6)]\n",
    "                   })\n",
    "df\n"
   ]
  },
  {
   "cell_type": "code",
   "execution_count": 4,
   "metadata": {},
   "outputs": [
    {
     "ename": "NameError",
     "evalue": "name 'tenzing_geometry_set' is not defined",
     "output_type": "error",
     "traceback": [
      "\u001b[1;31m---------------------------------------------------------------------------\u001b[0m",
      "\u001b[1;31mNameError\u001b[0m                                 Traceback (most recent call last)",
      "\u001b[1;32m<ipython-input-4-2cda9db62319>\u001b[0m in \u001b[0;36m<module>\u001b[1;34m\u001b[0m\n\u001b[1;32m----> 1\u001b[1;33m \u001b[0mts\u001b[0m \u001b[1;33m=\u001b[0m \u001b[0mtenzing_geometry_set\u001b[0m\u001b[1;33m(\u001b[0m\u001b[1;33m)\u001b[0m\u001b[1;33m\u001b[0m\u001b[1;33m\u001b[0m\u001b[0m\n\u001b[0m\u001b[0;32m      2\u001b[0m \u001b[0m_\u001b[0m \u001b[1;33m=\u001b[0m \u001b[0mts\u001b[0m\u001b[1;33m.\u001b[0m\u001b[0mprep\u001b[0m\u001b[1;33m(\u001b[0m\u001b[0mdf\u001b[0m\u001b[1;33m)\u001b[0m\u001b[1;33m\u001b[0m\u001b[1;33m\u001b[0m\u001b[0m\n\u001b[0;32m      3\u001b[0m \u001b[1;33m\u001b[0m\u001b[0m\n\u001b[0;32m      4\u001b[0m \u001b[0mts\u001b[0m\u001b[1;33m.\u001b[0m\u001b[0msummary_report\u001b[0m\u001b[1;33m(\u001b[0m\u001b[0mdf\u001b[0m\u001b[1;33m)\u001b[0m\u001b[1;33m\u001b[0m\u001b[1;33m\u001b[0m\u001b[0m\n",
      "\u001b[1;31mNameError\u001b[0m: name 'tenzing_geometry_set' is not defined"
     ]
    }
   ],
   "source": [
    "ts = tenzing_geometry_set()\n",
    "_ = ts.prep(df)\n",
    "\n",
    "ts.summary_report(df)"
   ]
  },
  {
   "cell_type": "code",
   "execution_count": 4,
   "metadata": {},
   "outputs": [
    {
     "data": {
      "text/plain": [
       "{'item_id': tenzing_integer,\n",
       " 'item_cost': tenzing_float,\n",
       " 'item_name': tenzing_string,\n",
       " 'sale_date': tenzing_timestamp,\n",
       " 'store_location': tenzing_string,\n",
       " 'COGS': tenzing_string,\n",
       " 'is_still_available': tenzing_bool,\n",
       " 'is_expired': tenzing_string}"
      ]
     },
     "execution_count": 4,
     "metadata": {},
     "output_type": "execute_result"
    }
   ],
   "source": [
    "ts.column_type_map"
   ]
  },
  {
   "cell_type": "code",
   "execution_count": 5,
   "metadata": {},
   "outputs": [
    {
     "data": {
      "text/plain": [
       "{'item_id': tenzing_integer,\n",
       " 'item_cost': tenzing_float,\n",
       " 'item_name': tenzing_string,\n",
       " 'sale_date': tenzing_timestamp,\n",
       " 'store_location': tenzing_geometry,\n",
       " 'COGS': tenzing_float,\n",
       " 'is_still_available': tenzing_bool,\n",
       " 'is_expired': tenzing_bool}"
      ]
     },
     "execution_count": 5,
     "metadata": {},
     "output_type": "execute_result"
    }
   ],
   "source": [
    "ts.infer_types(df)"
   ]
  },
  {
   "cell_type": "code",
   "execution_count": 6,
   "metadata": {},
   "outputs": [
    {
     "data": {
      "text/html": [
       "<div>\n",
       "<style scoped>\n",
       "    .dataframe tbody tr th:only-of-type {\n",
       "        vertical-align: middle;\n",
       "    }\n",
       "\n",
       "    .dataframe tbody tr th {\n",
       "        vertical-align: top;\n",
       "    }\n",
       "\n",
       "    .dataframe thead th {\n",
       "        text-align: right;\n",
       "    }\n",
       "</style>\n",
       "<table border=\"1\" class=\"dataframe\">\n",
       "  <thead>\n",
       "    <tr style=\"text-align: right;\">\n",
       "      <th></th>\n",
       "      <th>item_id</th>\n",
       "      <th>item_cost</th>\n",
       "      <th>item_name</th>\n",
       "      <th>sale_date</th>\n",
       "      <th>store_location</th>\n",
       "      <th>COGS</th>\n",
       "      <th>is_still_available</th>\n",
       "      <th>is_expired</th>\n",
       "    </tr>\n",
       "  </thead>\n",
       "  <tbody>\n",
       "    <tr>\n",
       "      <th>0</th>\n",
       "      <td>1</td>\n",
       "      <td>2.1</td>\n",
       "      <td>orange</td>\n",
       "      <td>2011-01-01</td>\n",
       "      <td>POINT (12 42)</td>\n",
       "      <td>NaN</td>\n",
       "      <td>True</td>\n",
       "      <td>True</td>\n",
       "    </tr>\n",
       "    <tr>\n",
       "      <th>1</th>\n",
       "      <td>1</td>\n",
       "      <td>3.5</td>\n",
       "      <td>orange</td>\n",
       "      <td>2012-01-01</td>\n",
       "      <td>POINT (100 42.723)</td>\n",
       "      <td>1.1</td>\n",
       "      <td>False</td>\n",
       "      <td>False</td>\n",
       "    </tr>\n",
       "    <tr>\n",
       "      <th>2</th>\n",
       "      <td>3</td>\n",
       "      <td>4.0</td>\n",
       "      <td>apple</td>\n",
       "      <td>2013-01-01</td>\n",
       "      <td>POINT (0 0)</td>\n",
       "      <td>2.1</td>\n",
       "      <td>True</td>\n",
       "      <td>False</td>\n",
       "    </tr>\n",
       "  </tbody>\n",
       "</table>\n",
       "</div>"
      ],
      "text/plain": [
       "   item_id  item_cost item_name  sale_date      store_location  COGS  \\\n",
       "0        1        2.1    orange 2011-01-01       POINT (12 42)   NaN   \n",
       "1        1        3.5    orange 2012-01-01  POINT (100 42.723)   1.1   \n",
       "2        3        4.0     apple 2013-01-01         POINT (0 0)   2.1   \n",
       "\n",
       "   is_still_available  is_expired  \n",
       "0                True        True  \n",
       "1               False       False  \n",
       "2                True       False  "
      ]
     },
     "execution_count": 6,
     "metadata": {},
     "output_type": "execute_result"
    }
   ],
   "source": [
    "ts.cast_to_inferred_types(df)"
   ]
  },
  {
   "cell_type": "code",
   "execution_count": 7,
   "metadata": {},
   "outputs": [
    {
     "data": {
      "image/png": "[encoded data removed]",
      "text/plain": [
       "<Figure size 432x288 with 1 Axes>"
      ]
     },
     "metadata": {},
     "output_type": "display_data"
    }
   ],
   "source": [
    "nx.draw_kamada_kawai(ts.relation_map, with_labels=True)"
   ]
  },
  {
   "cell_type": "code",
   "execution_count": null,
   "metadata": {},
   "outputs": [],
   "source": []
  }
 ],
 "metadata": {
  "kernelspec": {
   "display_name": "Python 3",
   "language": "python",
   "name": "python3"
  },
  "language_info": {
   "codemirror_mode": {
    "name": "ipython",
    "version": 3
   },
   "file_extension": ".py",
   "mimetype": "text/x-python",
   "name": "python",
   "nbconvert_exporter": "python",
   "pygments_lexer": "ipython3",
   "version": "3.7.2"
  }
 },
 "nbformat": 4,
 "nbformat_minor": 2
}
