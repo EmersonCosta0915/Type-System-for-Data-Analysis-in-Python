{
 "cells": [
  {
   "cell_type": "code",
   "execution_count": 1,
   "metadata": {},
   "outputs": [
    {
     "ename": "ModuleNotFoundError",
     "evalue": "No module named 'tenzing.utils.monkeypatches'",
     "output_type": "error",
     "traceback": [
      "\u001b[0;31m---------------------------------------------------------------------------\u001b[0m",
      "\u001b[0;31mModuleNotFoundError\u001b[0m                       Traceback (most recent call last)",
      "\u001b[0;32m<ipython-input-1-57f65f490ac9>\u001b[0m in \u001b[0;36m<module>\u001b[0;34m\u001b[0m\n\u001b[1;32m      2\u001b[0m \u001b[0msys\u001b[0m\u001b[0;34m.\u001b[0m\u001b[0mpath\u001b[0m\u001b[0;34m.\u001b[0m\u001b[0mappend\u001b[0m\u001b[0;34m(\u001b[0m\u001b[0;34m'../src/'\u001b[0m\u001b[0;34m)\u001b[0m\u001b[0;34m\u001b[0m\u001b[0;34m\u001b[0m\u001b[0m\n\u001b[1;32m      3\u001b[0m \u001b[0;34m\u001b[0m\u001b[0m\n\u001b[0;32m----> 4\u001b[0;31m \u001b[0;32mfrom\u001b[0m \u001b[0mtenzing\u001b[0m\u001b[0;34m.\u001b[0m\u001b[0mcore\u001b[0m\u001b[0;34m.\u001b[0m\u001b[0mmodel_implementations\u001b[0m\u001b[0;34m.\u001b[0m\u001b[0msub_types\u001b[0m \u001b[0;32mimport\u001b[0m \u001b[0mmissing\u001b[0m\u001b[0;34m,\u001b[0m \u001b[0minfinite\u001b[0m\u001b[0;34m\u001b[0m\u001b[0;34m\u001b[0m\u001b[0m\n\u001b[0m\u001b[1;32m      5\u001b[0m \u001b[0;32mfrom\u001b[0m \u001b[0mtenzing\u001b[0m\u001b[0;34m.\u001b[0m\u001b[0mcore\u001b[0m\u001b[0;34m.\u001b[0m\u001b[0mmodel_implementations\u001b[0m \u001b[0;32mimport\u001b[0m \u001b[0;34m*\u001b[0m\u001b[0;34m\u001b[0m\u001b[0;34m\u001b[0m\u001b[0m\n\u001b[1;32m      6\u001b[0m \u001b[0;32mfrom\u001b[0m \u001b[0mtenzing\u001b[0m\u001b[0;34m.\u001b[0m\u001b[0mcore\u001b[0m\u001b[0;34m.\u001b[0m\u001b[0mmodel_implementations\u001b[0m\u001b[0;34m.\u001b[0m\u001b[0mtypesets\u001b[0m \u001b[0;32mimport\u001b[0m \u001b[0;34m*\u001b[0m\u001b[0;34m\u001b[0m\u001b[0;34m\u001b[0m\u001b[0m\n",
      "\u001b[0;32m~/repos/tenzing/src/tenzing/__init__.py\u001b[0m in \u001b[0;36m<module>\u001b[0;34m\u001b[0m\n\u001b[0;32m----> 1\u001b[0;31m \u001b[0;32mfrom\u001b[0m \u001b[0mtenzing\u001b[0m \u001b[0;32mimport\u001b[0m \u001b[0mcore\u001b[0m\u001b[0;34m\u001b[0m\u001b[0;34m\u001b[0m\u001b[0m\n\u001b[0m\u001b[1;32m      2\u001b[0m \u001b[0;32mfrom\u001b[0m \u001b[0mtenzing\u001b[0m \u001b[0;32mimport\u001b[0m \u001b[0mutils\u001b[0m\u001b[0;34m\u001b[0m\u001b[0;34m\u001b[0m\u001b[0m\n",
      "\u001b[0;32m~/repos/tenzing/src/tenzing/core/__init__.py\u001b[0m in \u001b[0;36m<module>\u001b[0;34m\u001b[0m\n\u001b[1;32m      1\u001b[0m \u001b[0;32mfrom\u001b[0m \u001b[0mtenzing\u001b[0m\u001b[0;34m.\u001b[0m\u001b[0mcore\u001b[0m\u001b[0;34m.\u001b[0m\u001b[0mmodels\u001b[0m \u001b[0;32mimport\u001b[0m \u001b[0mtenzing_model\u001b[0m\u001b[0;34m,\u001b[0m \u001b[0mmodel_relation\u001b[0m\u001b[0;34m\u001b[0m\u001b[0;34m\u001b[0m\u001b[0m\n\u001b[0;32m----> 2\u001b[0;31m \u001b[0;32mfrom\u001b[0m \u001b[0mtenzing\u001b[0m\u001b[0;34m.\u001b[0m\u001b[0mcore\u001b[0m \u001b[0;32mimport\u001b[0m \u001b[0mmodel_implementations\u001b[0m\u001b[0;34m\u001b[0m\u001b[0;34m\u001b[0m\u001b[0m\n\u001b[0m",
      "\u001b[0;32m~/repos/tenzing/src/tenzing/core/model_implementations/__init__.py\u001b[0m in \u001b[0;36m<module>\u001b[0;34m\u001b[0m\n\u001b[1;32m     15\u001b[0m \u001b[0;32mfrom\u001b[0m \u001b[0mtenzing\u001b[0m\u001b[0;34m.\u001b[0m\u001b[0mcore\u001b[0m\u001b[0;34m.\u001b[0m\u001b[0mmodel_implementations\u001b[0m\u001b[0;34m.\u001b[0m\u001b[0mtypes\u001b[0m\u001b[0;34m.\u001b[0m\u001b[0mtenzing_timedelta\u001b[0m \u001b[0;32mimport\u001b[0m \u001b[0mtenzing_timedelta\u001b[0m\u001b[0;34m\u001b[0m\u001b[0;34m\u001b[0m\u001b[0m\n\u001b[1;32m     16\u001b[0m \u001b[0;32mfrom\u001b[0m \u001b[0mtenzing\u001b[0m\u001b[0;34m.\u001b[0m\u001b[0mcore\u001b[0m\u001b[0;34m.\u001b[0m\u001b[0mmodel_implementations\u001b[0m\u001b[0;34m.\u001b[0m\u001b[0mtypes\u001b[0m\u001b[0;34m.\u001b[0m\u001b[0mtenzing_path\u001b[0m \u001b[0;32mimport\u001b[0m \u001b[0mtenzing_path\u001b[0m\u001b[0;34m\u001b[0m\u001b[0;34m\u001b[0m\u001b[0m\n\u001b[0;32m---> 17\u001b[0;31m from tenzing.core.model_implementations.types.tenzing_image_path import (\n\u001b[0m\u001b[1;32m     18\u001b[0m     \u001b[0mtenzing_image_path\u001b[0m\u001b[0;34m,\u001b[0m\u001b[0;34m\u001b[0m\u001b[0;34m\u001b[0m\u001b[0m\n\u001b[1;32m     19\u001b[0m )\n",
      "\u001b[0;32m~/repos/tenzing/src/tenzing/core/model_implementations/types/tenzing_image_path.py\u001b[0m in \u001b[0;36m<module>\u001b[0;34m\u001b[0m\n\u001b[0;32m----> 1\u001b[0;31m \u001b[0;32mfrom\u001b[0m \u001b[0mtenzing\u001b[0m\u001b[0;34m.\u001b[0m\u001b[0mutils\u001b[0m\u001b[0;34m.\u001b[0m\u001b[0mmonkeypatches\u001b[0m \u001b[0;32mimport\u001b[0m \u001b[0;34m*\u001b[0m\u001b[0;34m\u001b[0m\u001b[0;34m\u001b[0m\u001b[0m\n\u001b[0m\u001b[1;32m      2\u001b[0m \u001b[0;32mimport\u001b[0m \u001b[0mimghdr\u001b[0m\u001b[0;34m\u001b[0m\u001b[0;34m\u001b[0m\u001b[0m\n\u001b[1;32m      3\u001b[0m \u001b[0;34m\u001b[0m\u001b[0m\n\u001b[1;32m      4\u001b[0m from tenzing.core.model_implementations.types.tenzing_existing_path import (\n\u001b[1;32m      5\u001b[0m     \u001b[0mtenzing_existing_path\u001b[0m\u001b[0;34m,\u001b[0m\u001b[0;34m\u001b[0m\u001b[0;34m\u001b[0m\u001b[0m\n",
      "\u001b[0;31mModuleNotFoundError\u001b[0m: No module named 'tenzing.utils.monkeypatches'"
     ]
    }
   ],
   "source": [
    "import sys\n",
    "sys.path.append('../src/')\n",
    "\n",
    "from tenzing.core.model_implementations.sub_types import missing, infinite\n",
    "from tenzing.core.model_implementations import *\n",
    "from tenzing.core.model_implementations.typesets import *\n",
    "from tenzing.core.model_implementations import sub_types\n",
<<<<<<< Updated upstream
    "from tenzing.core.model_implementations.typesets import tenzing_complete_set, tenzing_standard_set\n",
=======
    "from tenzing.core.model_implementations.typesets import tenzing_complete_set, tenzing_standard\n",
    "from tenzing.core.models import *\n",
    "from tenzing.core.typesets import *\n",
>>>>>>> Stashed changes
    "import datetime\n",
    "import numpy as np\n",
    "import networkx as nx\n",
    "\n",
    "import pandas as pd\n",
    "%matplotlib inline"
   ]
  },
  {
   "cell_type": "code",
   "execution_count": 16,
   "metadata": {},
   "outputs": [
    {
     "ename": "AssertionError",
     "evalue": "[tenzing_string + missing] were isolates in the type relation map and consequently orphaned. Please add some mapping to the orphaned nodes.",
     "output_type": "error",
     "traceback": [
      "\u001b[0;31m---------------------------------------------------------------------------\u001b[0m",
      "\u001b[0;31mAssertionError\u001b[0m                            Traceback (most recent call last)",
      "\u001b[0;32m<ipython-input-16-d1ec574c1135>\u001b[0m in \u001b[0;36m<module>\u001b[0;34m\u001b[0m\n\u001b[1;32m      1\u001b[0m G = tenzingTypeset([tenzing_object+missing, tenzing_string + missing, tenzing_string,\n\u001b[0;32m----> 2\u001b[0;31m                    tenzing_integer, tenzing_float]).relation_graph\n\u001b[0m\u001b[1;32m      3\u001b[0m \u001b[0mnx\u001b[0m\u001b[0;34m.\u001b[0m\u001b[0mdraw_kamada_kawai\u001b[0m\u001b[0;34m(\u001b[0m\u001b[0mG\u001b[0m\u001b[0;34m,\u001b[0m \u001b[0mwith_labels\u001b[0m\u001b[0;34m=\u001b[0m\u001b[0;32mTrue\u001b[0m\u001b[0;34m)\u001b[0m\u001b[0;34m\u001b[0m\u001b[0;34m\u001b[0m\u001b[0m\n",
      "\u001b[0;32m~/repos/tenzing/src/tenzing/core/typesets.py\u001b[0m in \u001b[0;36m__init__\u001b[0;34m(self, types)\u001b[0m\n\u001b[1;32m    121\u001b[0m         \u001b[0mself\u001b[0m\u001b[0;34m.\u001b[0m\u001b[0mtypes\u001b[0m \u001b[0;34m=\u001b[0m \u001b[0mfrozenset\u001b[0m\u001b[0;34m(\u001b[0m\u001b[0mtypes\u001b[0m\u001b[0;34m)\u001b[0m\u001b[0;34m\u001b[0m\u001b[0;34m\u001b[0m\u001b[0m\n\u001b[1;32m    122\u001b[0m \u001b[0;34m\u001b[0m\u001b[0m\n\u001b[0;32m--> 123\u001b[0;31m         \u001b[0mself\u001b[0m\u001b[0;34m.\u001b[0m\u001b[0mrelation_graph\u001b[0m \u001b[0;34m=\u001b[0m \u001b[0mbuild_relation_graph\u001b[0m\u001b[0;34m(\u001b[0m\u001b[0mself\u001b[0m\u001b[0;34m.\u001b[0m\u001b[0mtypes\u001b[0m\u001b[0;34m)\u001b[0m\u001b[0;34m\u001b[0m\u001b[0;34m\u001b[0m\u001b[0m\n\u001b[0m\u001b[1;32m    124\u001b[0m \u001b[0;34m\u001b[0m\u001b[0m\n\u001b[1;32m    125\u001b[0m         \u001b[0mself\u001b[0m\u001b[0;34m.\u001b[0m\u001b[0mcolumn_summary\u001b[0m \u001b[0;34m=\u001b[0m \u001b[0;34m{\u001b[0m\u001b[0;34m}\u001b[0m\u001b[0;34m\u001b[0m\u001b[0;34m\u001b[0m\u001b[0m\n",
      "\u001b[0;32m~/repos/tenzing/src/tenzing/core/typesets.py\u001b[0m in \u001b[0;36mbuild_relation_graph\u001b[0;34m(nodes)\u001b[0m\n\u001b[1;32m     37\u001b[0m     \u001b[0mnx\u001b[0m\u001b[0;34m.\u001b[0m\u001b[0mset_edge_attributes\u001b[0m\u001b[0;34m(\u001b[0m\u001b[0mrelation_graph\u001b[0m\u001b[0;34m,\u001b[0m \u001b[0mrelations\u001b[0m\u001b[0;34m)\u001b[0m\u001b[0;34m\u001b[0m\u001b[0;34m\u001b[0m\u001b[0m\n\u001b[1;32m     38\u001b[0m \u001b[0;34m\u001b[0m\u001b[0m\n\u001b[0;32m---> 39\u001b[0;31m     \u001b[0mcheck_graph_constraints\u001b[0m\u001b[0;34m(\u001b[0m\u001b[0mrelation_graph\u001b[0m\u001b[0;34m,\u001b[0m \u001b[0mnodes\u001b[0m\u001b[0;34m)\u001b[0m\u001b[0;34m\u001b[0m\u001b[0;34m\u001b[0m\u001b[0m\n\u001b[0m\u001b[1;32m     40\u001b[0m     \u001b[0;32mreturn\u001b[0m \u001b[0mrelation_graph\u001b[0m\u001b[0;34m\u001b[0m\u001b[0;34m\u001b[0m\u001b[0m\n\u001b[1;32m     41\u001b[0m \u001b[0;34m\u001b[0m\u001b[0m\n",
      "\u001b[0;32m~/repos/tenzing/src/tenzing/core/typesets.py\u001b[0m in \u001b[0;36mcheck_graph_constraints\u001b[0;34m(relation_graph, nodes)\u001b[0m\n\u001b[1;32m     48\u001b[0m     \u001b[0morphaned_nodes\u001b[0m \u001b[0;34m=\u001b[0m \u001b[0;34m[\u001b[0m\u001b[0mn\u001b[0m \u001b[0;32mfor\u001b[0m \u001b[0mn\u001b[0m \u001b[0;32min\u001b[0m \u001b[0mnodes\u001b[0m \u001b[0;32mif\u001b[0m \u001b[0mn\u001b[0m \u001b[0;32mnot\u001b[0m \u001b[0;32min\u001b[0m \u001b[0mset\u001b[0m\u001b[0;34m(\u001b[0m\u001b[0mrelation_graph\u001b[0m\u001b[0;34m.\u001b[0m\u001b[0mnodes\u001b[0m\u001b[0;34m)\u001b[0m\u001b[0;34m]\u001b[0m\u001b[0;34m\u001b[0m\u001b[0;34m\u001b[0m\u001b[0m\n\u001b[1;32m     49\u001b[0m \u001b[0;34m\u001b[0m\u001b[0m\n\u001b[0;32m---> 50\u001b[0;31m     \u001b[0;32massert\u001b[0m \u001b[0;32mnot\u001b[0m \u001b[0morphaned_nodes\u001b[0m\u001b[0;34m,\u001b[0m \u001b[0;34mf'{orphaned_nodes} were isolates in the type relation map and consequently orphaned. Please add some mapping to the orphaned nodes.'\u001b[0m\u001b[0;34m\u001b[0m\u001b[0;34m\u001b[0m\u001b[0m\n\u001b[0m\u001b[1;32m     51\u001b[0m     \u001b[0mcycles\u001b[0m \u001b[0;34m=\u001b[0m \u001b[0mlist\u001b[0m\u001b[0;34m(\u001b[0m\u001b[0mnx\u001b[0m\u001b[0;34m.\u001b[0m\u001b[0msimple_cycles\u001b[0m\u001b[0;34m(\u001b[0m\u001b[0mrelation_graph\u001b[0m\u001b[0;34m)\u001b[0m\u001b[0;34m)\u001b[0m\u001b[0;34m\u001b[0m\u001b[0;34m\u001b[0m\u001b[0m\n\u001b[1;32m     52\u001b[0m     \u001b[0;32massert\u001b[0m \u001b[0mlen\u001b[0m\u001b[0;34m(\u001b[0m\u001b[0mcycles\u001b[0m\u001b[0;34m)\u001b[0m \u001b[0;34m==\u001b[0m \u001b[0;36m0\u001b[0m\u001b[0;34m,\u001b[0m \u001b[0;34mf'Cyclical relations between types {cycles} detected'\u001b[0m\u001b[0;34m\u001b[0m\u001b[0;34m\u001b[0m\u001b[0m\n",
      "\u001b[0;31mAssertionError\u001b[0m: [tenzing_string + missing] were isolates in the type relation map and consequently orphaned. Please add some mapping to the orphaned nodes."
     ]
    }
   ],
   "source": [
    "G = tenzingTypeset([tenzing_object+missing, tenzing_string + missing, tenzing_string,\n",
    "                   tenzing_integer, tenzing_float]).relation_graph\n",
    "nx.draw_kamada_kawai(G, with_labels=True)"
   ]
  },
  {
   "cell_type": "code",
   "execution_count": 4,
   "metadata": {},
   "outputs": [],
   "source": [
    "from functools import partial\n",
    "from tenzing.core.models import model_relation\n",
    "self = tenzing_integer + missing\n",
    "dd\n",
    "\n",
    "def wrap_subtype_method(self, method_name):\n",
    "    def wrap(outer, inner):\n",
    "        return lambda x: outer(inner(x))\n",
    "    wrapped_func = getattr(self, method_name)\n",
    "    for typex in self.types:\n",
    "        wrapped_func = wrap(wrapped_func, getattr(typex, method_name))\n",
    "    return wrapped_func\n",
    "\n",
    "def masked_relation(self, relation):\n",
    "    def relationship(series):\n",
    "        return relation.relationship(series[~self.get_mask(series)])\n",
    "\n",
    "    def transformer(series):\n",
    "        mask = ~self.get_mask(series)\n",
    "        transformed_series = series.copy()\n",
    "        transformed_series[mask] = relation.transformer(series[mask])\n",
    "        return transformed_series\n",
    "        \n",
    "    return model_relation(self, relation.friend_model, relationship, transformer)\n",
    "        \n",
    "def _construct_relations(self):\n",
    "    self._relations = {}\n",
    "    for related_type, relation in self.base_type.get_relations().items():\n",
    "        self._relations[related_type] = masked_relation(self, relation)\n",
    "    "
   ]
  },
  {
   "cell_type": "code",
   "execution_count": 5,
   "metadata": {},
   "outputs": [],
   "source": [
    "from tenzing.core.typesets import infer_type, traverse_relation_graph\n",
    "standard_typeset = tenzing_standard_set()\n",
    "\n"
   ]
  },
  {
   "cell_type": "code",
   "execution_count": 6,
   "metadata": {},
   "outputs": [
    {
     "data": {
      "text/plain": [
       "(tenzing_bool, tenzing_generic, tenzing_model, object)"
      ]
     },
     "execution_count": 6,
     "metadata": {},
     "output_type": "execute_result"
    }
   ],
   "source": [
    "int_string_nan_series = pd.Series([\"1.0\", \"2.0\", np.nan])\n",
    "series = int_string_nan_series\n",
    "series_type = traverse_relation_graph(series, standard_typeset.inheritance_graph)\n",
    "inferred_type = infer_type(series_type, series, standard_typeset.relation_graph)\n",
    "\n",
    "#nx.draw_kamada_kawai(standard_typeset.relation_graph, with_labels=True)\n",
    "standard_typeset.get_mro(list(standard_typeset.types)[0])"
   ]
  },
  {
   "cell_type": "code",
   "execution_count": 12,
   "metadata": {},
   "outputs": [
    {
     "data": {
      "text/plain": [
       "<networkx.classes.digraph.DiGraph at 0xa1b130410>"
      ]
     },
     "execution_count": 12,
     "metadata": {},
     "output_type": "execute_result"
    }
   ],
   "source": [
    "standard_typeset.relation_graph.copy()"
   ]
  },
  {
   "cell_type": "code",
   "execution_count": 3,
   "metadata": {},
   "outputs": [
    {
     "ename": "NameError",
     "evalue": "name 'series' is not defined",
     "output_type": "error",
     "traceback": [
      "\u001b[0;31m---------------------------------------------------------------------------\u001b[0m",
      "\u001b[0;31mNameError\u001b[0m                                 Traceback (most recent call last)",
      "\u001b[0;32m<ipython-input-3-ff91456b71bc>\u001b[0m in \u001b[0;36m<module>\u001b[0;34m\u001b[0m\n\u001b[0;32m----> 1\u001b[0;31m \u001b[0mmask\u001b[0m \u001b[0;34m=\u001b[0m \u001b[0mnp\u001b[0m\u001b[0;34m.\u001b[0m\u001b[0mzeros_like\u001b[0m\u001b[0;34m(\u001b[0m\u001b[0mseries\u001b[0m\u001b[0;34m,\u001b[0m \u001b[0mdtype\u001b[0m\u001b[0;34m=\u001b[0m\u001b[0mbool\u001b[0m\u001b[0;34m)\u001b[0m\u001b[0;34m\u001b[0m\u001b[0;34m\u001b[0m\u001b[0m\n\u001b[0m\u001b[1;32m      2\u001b[0m \u001b[0;32mfor\u001b[0m \u001b[0mtype\u001b[0m \u001b[0;32min\u001b[0m \u001b[0mself\u001b[0m\u001b[0;34m.\u001b[0m\u001b[0mtypes\u001b[0m\u001b[0;34m:\u001b[0m\u001b[0;34m\u001b[0m\u001b[0;34m\u001b[0m\u001b[0m\n\u001b[1;32m      3\u001b[0m     \u001b[0mmask\u001b[0m \u001b[0;34m|=\u001b[0m \u001b[0mtype\u001b[0m\u001b[0;34m.\u001b[0m\u001b[0mget_mask\u001b[0m\u001b[0;34m(\u001b[0m\u001b[0mseries\u001b[0m\u001b[0;34m)\u001b[0m\u001b[0;34m\u001b[0m\u001b[0;34m\u001b[0m\u001b[0m\n\u001b[1;32m      4\u001b[0m \u001b[0mrest_mask\u001b[0m \u001b[0;34m=\u001b[0m \u001b[0;34m~\u001b[0m\u001b[0mmask\u001b[0m\u001b[0;34m\u001b[0m\u001b[0;34m\u001b[0m\u001b[0m\n\u001b[1;32m      5\u001b[0m \u001b[0msubs\u001b[0m \u001b[0;34m=\u001b[0m \u001b[0mall\u001b[0m\u001b[0;34m(\u001b[0m\u001b[0mseries\u001b[0m\u001b[0;34m[\u001b[0m\u001b[0mtype\u001b[0m\u001b[0;34m.\u001b[0m\u001b[0mget_mask\u001b[0m\u001b[0;34m(\u001b[0m\u001b[0mseries\u001b[0m\u001b[0;34m)\u001b[0m\u001b[0;34m]\u001b[0m \u001b[0;32min\u001b[0m \u001b[0mtype\u001b[0m \u001b[0;32mfor\u001b[0m \u001b[0mtype\u001b[0m \u001b[0;32min\u001b[0m \u001b[0mself\u001b[0m\u001b[0;34m.\u001b[0m\u001b[0mtypes\u001b[0m\u001b[0;34m)\u001b[0m\u001b[0;34m\u001b[0m\u001b[0;34m\u001b[0m\u001b[0m\n",
      "\u001b[0;31mNameError\u001b[0m: name 'series' is not defined"
     ]
    }
   ],
   "source": [
    "mask = np.zeros_like(series, dtype=bool)\n",
    "for type in self.types:\n",
    "    mask |= type.get_mask(series)\n",
    "rest_mask = ~mask\n",
    "subs = all(series[type.get_mask(series)] in type for type in self.types)\n",
    "rest = series[rest_mask] in self.base_type"
   ]
  },
  {
   "cell_type": "code",
   "execution_count": 3,
   "metadata": {},
   "outputs": [
    {
     "ename": "NameError",
     "evalue": "name 'df' is not defined",
     "output_type": "error",
     "traceback": [
      "\u001b[0;31m---------------------------------------------------------------------------\u001b[0m",
      "\u001b[0;31mNameError\u001b[0m                                 Traceback (most recent call last)",
      "\u001b[0;32m<ipython-input-3-a62b7237b05d>\u001b[0m in \u001b[0;36m<module>\u001b[0;34m\u001b[0m\n\u001b[1;32m      1\u001b[0m \u001b[0mts\u001b[0m \u001b[0;34m=\u001b[0m \u001b[0mtenzing_standard\u001b[0m\u001b[0;34m(\u001b[0m\u001b[0;34m)\u001b[0m\u001b[0;34m\u001b[0m\u001b[0;34m\u001b[0m\u001b[0m\n\u001b[0;32m----> 2\u001b[0;31m \u001b[0mts\u001b[0m\u001b[0;34m.\u001b[0m\u001b[0mprep\u001b[0m\u001b[0;34m(\u001b[0m\u001b[0mdf\u001b[0m\u001b[0;34m)\u001b[0m\u001b[0;34m\u001b[0m\u001b[0;34m\u001b[0m\u001b[0m\n\u001b[0m\u001b[1;32m      3\u001b[0m \u001b[0;34m\u001b[0m\u001b[0m\n\u001b[1;32m      4\u001b[0m \u001b[0mts\u001b[0m\u001b[0;34m.\u001b[0m\u001b[0minfer_types\u001b[0m\u001b[0;34m(\u001b[0m\u001b[0mdf\u001b[0m\u001b[0;34m)\u001b[0m\u001b[0;34m\u001b[0m\u001b[0;34m\u001b[0m\u001b[0m\n",
      "\u001b[0;31mNameError\u001b[0m: name 'df' is not defined"
     ]
    }
   ],
   "source": [
    "ts = tenzing_standard_set()\n",
    "ts.prep(df)\n",
    "\n",
    "ts.infer_types(df)\n"
   ]
  },
  {
   "cell_type": "code",
   "execution_count": 42,
   "metadata": {},
   "outputs": [
    {
     "ename": "NameError",
     "evalue": "name 'singleton' is not defined",
     "output_type": "error",
     "traceback": [
      "\u001b[0;31m---------------------------------------------------------------------------\u001b[0m",
      "\u001b[0;31mNameError\u001b[0m                                 Traceback (most recent call last)",
      "\u001b[0;32m<ipython-input-42-3c5d59c8315d>\u001b[0m in \u001b[0;36m<module>\u001b[0;34m\u001b[0m\n\u001b[0;32m----> 1\u001b[0;31m \u001b[0;34m@\u001b[0m\u001b[0msingleton\u001b[0m\u001b[0;34m.\u001b[0m\u001b[0msingleton_object\u001b[0m\u001b[0;34m\u001b[0m\u001b[0;34m\u001b[0m\u001b[0m\n\u001b[0m\u001b[1;32m      2\u001b[0m \u001b[0;32mclass\u001b[0m \u001b[0mtenzing_float\u001b[0m\u001b[0;34m(\u001b[0m\u001b[0muniqueSummaryMixin\u001b[0m\u001b[0;34m,\u001b[0m \u001b[0mtenzing_model\u001b[0m\u001b[0;34m)\u001b[0m\u001b[0;34m:\u001b[0m\u001b[0;34m\u001b[0m\u001b[0;34m\u001b[0m\u001b[0m\n\u001b[1;32m      3\u001b[0m     \"\"\"**Float** implementation of :class:`tenzing.core.models.tenzing_model`.\n\u001b[1;32m      4\u001b[0m \u001b[0;34m\u001b[0m\u001b[0m\n\u001b[1;32m      5\u001b[0m     \u001b[0;34m>>\u001b[0m\u001b[0;34m>\u001b[0m \u001b[0mx\u001b[0m \u001b[0;34m=\u001b[0m \u001b[0mpd\u001b[0m\u001b[0;34m.\u001b[0m\u001b[0mSeries\u001b[0m\u001b[0;34m(\u001b[0m\u001b[0;34m[\u001b[0m\u001b[0;36m1.0\u001b[0m\u001b[0;34m,\u001b[0m \u001b[0;36m2.5\u001b[0m\u001b[0;34m,\u001b[0m \u001b[0;36m5.0\u001b[0m\u001b[0;34m,\u001b[0m \u001b[0mnp\u001b[0m\u001b[0;34m.\u001b[0m\u001b[0mnan\u001b[0m\u001b[0;34m]\u001b[0m\u001b[0;34m)\u001b[0m\u001b[0;34m\u001b[0m\u001b[0;34m\u001b[0m\u001b[0m\n",
      "\u001b[0;31mNameError\u001b[0m: name 'singleton' is not defined"
     ]
    }
   ],
   "source": [
    "@singleton.singleton_object\n",
    "class tenzing_float(uniqueSummaryMixin, tenzing_model):\n",
    "    \"\"\"**Float** implementation of :class:`tenzing.core.models.tenzing_model`.\n",
    "\n",
    "    >>> x = pd.Series([1.0, 2.5, 5.0, np.nan])\n",
    "    >>> x in tenzing_float\n",
    "    True\n",
    "    \"\"\"\n",
    "    def contains_op(self, series):\n",
    "        if not pdt.is_float_dtype(series):\n",
    "            return False\n",
    "        # TODO: are we sure we want this to depend on integer?\n",
    "        elif series in tenzing_integer:\n",
    "            return False\n",
    "        else:\n",
    "            return True\n",
    "\n",
    "    def cast_op(self, series):\n",
    "        return series.astype(float)\n",
    "\n",
    "    def summarization_op(self, series):\n",
    "        aggregates = ['nunique', 'mean', 'std', 'var', 'max', 'min', 'median', 'kurt', 'skew', 'sum', 'mad']\n",
    "        summary = series.agg(aggregates).to_dict()\n",
    "\n",
    "        quantiles = [0.05, 0.25, 0.5, 0.75, 0.95]\n",
    "        for percentile, value in series.quantile(quantiles).to_dict().items():\n",
    "            summary[\"quantile_{:d}\".format(int(percentile * 100))] = value\n",
    "\n",
    "        summary[\"range\"] = summary[\"max\"] - summary[\"min\"]\n",
    "        summary[\"iqr\"] = summary[\"quantile_75\"] - summary[\"quantile_25\"]\n",
    "        summary[\"cv\"] = summary[\"std\"] / summary[\"mean\"] if summary[\"mean\"] else np.NaN\n",
    "\n",
    "        # TODO: move to common\n",
    "        summary['n_records'] = series.shape[0]\n",
    "        summary['memory_size'] = series.memory_usage(index=True, deep=True),\n",
    "\n",
    "\n",
    "        # TODO: only calculations for histogram, not the plotting\n",
    "        # summary['image'] = plotting.histogram(series)\n",
    "        return summary\n",
    "\n",
    "series = pd.Series([1.0, 2.0, np.nan, 1.0])\n",
    "tenzing_float.summarize(series)\n"
   ]
  },
  {
   "cell_type": "code",
   "execution_count": 4,
   "metadata": {},
   "outputs": [
    {
     "data": {
      "text/plain": [
       "{'n_unique': 2, 'p_unique': 1.0}"
      ]
     },
     "execution_count": 4,
     "metadata": {},
     "output_type": "execute_result"
    }
   ],
   "source": [
    "uniqueSummaryMixin().summarization_op(series)"
   ]
  },
  {
   "cell_type": "code",
   "execution_count": 2,
   "metadata": {},
   "outputs": [
    {
     "ename": "NameError",
     "evalue": "name 'series' is not defined",
     "output_type": "error",
     "traceback": [
      "\u001b[0;31m---------------------------------------------------------------------------\u001b[0m",
      "\u001b[0;31mNameError\u001b[0m                                 Traceback (most recent call last)",
      "\u001b[0;32m<ipython-input-2-e3a0c7a68773>\u001b[0m in \u001b[0;36m<module>\u001b[0;34m\u001b[0m\n\u001b[1;32m      9\u001b[0m         \u001b[0;32mreturn\u001b[0m \u001b[0;32mFalse\u001b[0m\u001b[0;34m\u001b[0m\u001b[0;34m\u001b[0m\u001b[0m\n\u001b[1;32m     10\u001b[0m \u001b[0;34m\u001b[0m\u001b[0m\n\u001b[0;32m---> 11\u001b[0;31m \u001b[0mcontains_op\u001b[0m\u001b[0;34m(\u001b[0m\u001b[0mseries\u001b[0m\u001b[0;34m)\u001b[0m\u001b[0;34m\u001b[0m\u001b[0;34m\u001b[0m\u001b[0m\n\u001b[0m",
      "\u001b[0;31mNameError\u001b[0m: name 'series' is not defined"
     ]
    }
   ],
   "source": [
    "def contains_op(series):\n",
    "    if pdt.is_integer_dtype(series):\n",
    "        return True\n",
    "    elif pdt.is_float_dtype(series):\n",
    "        # Need this additional check because it's an Option[Int] which in\n",
    "        # pandas land will result in integers with decimal trailing 0's\n",
    "        return series.eq(series.astype(int)).all()\n",
    "    else:\n",
    "        return False\n",
    "    \n",
    "contains_op(series)"
   ]
  },
  {
   "cell_type": "code",
   "execution_count": null,
   "metadata": {},
   "outputs": [],
   "source": [
    "# This is causing errors because ALL numeric strings can be cast to floats\n",
    "# The relationship needs to exclude integers.\n",
    "model = tenzing_float\n",
    "relation = tenzing_string\n",
    "series = pd.Series(range(10))\n",
    "\n",
    "relation = model.relations[relation]\n",
    "operation = None\n",
    "self = relation.model\n",
    "operation = operation if operation is not None else self.cast_op\n",
    "\n",
    "result = 'Not a relation'\n",
    "if relation.is_relation(series):\n",
    "    idx = series.isna()\n",
    "    if idx.any():\n",
    "        result = series.copy()\n",
    "        result[~idx] = operation(series[~idx])\n",
    "    else:\n",
    "        result = operation(series)\n",
    "result in model\n"
   ]
  },
  {
   "cell_type": "code",
   "execution_count": null,
   "metadata": {},
   "outputs": [],
   "source": []
  },
  {
   "cell_type": "code",
   "execution_count": null,
   "metadata": {},
   "outputs": [],
   "source": [
    "series = pd.Series(range(20))\n",
    "relation.is_relation(series)"
   ]
  },
  {
   "cell_type": "code",
   "execution_count": null,
   "metadata": {},
   "outputs": [],
   "source": [
    "def get_series(series):\n",
    "    if series.hasnans:\n",
    "        ret = series[series.notna()]\n",
    "    else:\n",
    "        ret = series\n",
    "    return ret\n",
    " \n",
    "def get_series2(series):\n",
    "    return series[series.notna()]\n",
    "\n",
    "\n",
    "series = pd.Series([i for i in range(100000)] + [np.nan])\n",
    "%timeit get_series(series)\n",
    "%timeit get_series2(series)"
   ]
  },
  {
   "cell_type": "code",
   "execution_count": null,
   "metadata": {},
   "outputs": [],
   "source": [
    "series = pd.Series(['1', '2'])\n",
    "operation = None\n",
    "operation = operation if operation is not None else tenzing_integer.cast_op\n",
    "idx = series.notna()\n",
    "result = series.copy()\n",
    "result[idx] = operation(series[idx]).infer_objects()\n",
    "result"
   ]
  },
  {
   "cell_type": "code",
   "execution_count": null,
   "metadata": {},
   "outputs": [],
   "source": [
    "s = pd.Series(range(10000000), dtype='object')\n",
    "%timeit s.infer_objects()"
   ]
  },
  {
   "cell_type": "code",
   "execution_count": null,
   "metadata": {},
   "outputs": [],
   "source": [
    "%timeit pd.Series(s.tolist())"
   ]
  },
  {
   "cell_type": "code",
   "execution_count": null,
   "metadata": {},
   "outputs": [],
   "source": [
    "def string_is_geometry(series):\n",
    "    \"\"\"\n",
    "        Shapely logs failures at a silly severity, just trying to suppress it's output on failures.\n",
    "    \"\"\"\n",
    "    import logging\n",
    "    from shapely import wkt\n",
    "    logging.disable()\n",
    "    try:\n",
    "        result = all(wkt.loads(value) for value in series)\n",
    "    except Exception:\n",
    "        result = False\n",
    "    finally:\n",
    "        logging.disable(logging.NOTSET)\n",
    "\n",
    "    return result\n",
    "\n",
    "series = pd.Series(['a', 'b'])\n",
    "string_is_geometry(series)"
   ]
  },
  {
   "cell_type": "code",
   "execution_count": null,
   "metadata": {},
   "outputs": [],
   "source": [
    "def evaluate_transform_path():\n",
    "    pass\n",
    "source_type = tenzing_string\n",
    "target_type = tenzing_integer\n",
    "#def get_type_inference_path(series, source_type, target_type, G):\n",
    "paths = nx.all_shortest_paths(G, source=source_type, target=target_type)\n",
    "\n",
    "def get_type_inference_path(base_type, series, G, path=[]):\n",
    "    path.append(base_type)\n",
    "    for tenz_type in G.successors(base_type):\n",
    "        if G[base_type][tenz_type]['relationship'].is_relation(series):\n",
    "            new_series = G[base_type][tenz_type]['relationship'].transform(series)\n",
    "            return get_type_inference_path(tenz_type, new_series, G, path)\n",
    "    return path\n",
    "\n",
    "\n",
    "get_type_inference_path(source_type, series, G)\n",
    "        \n"
   ]
  },
  {
   "cell_type": "code",
   "execution_count": null,
   "metadata": {},
   "outputs": [],
   "source": [
    "nx.draw_kamada_kawai(G, with_labels=True)"
   ]
  },
  {
   "cell_type": "code",
   "execution_count": null,
   "metadata": {},
   "outputs": [],
   "source": [
    "from tenzing.core.model_implementations.typesets import tenzing_standard_set\n",
    "\n",
    "df = pd.DataFrame({'Col 1': range(3), \n",
    "                   'Col 2': [2 * i for i in range(3)], \n",
    "                   'Col 3': ['howdy', 'howdy', 'doody'],\n",
    "                   'times': pd.to_datetime([datetime.date(2011,1,1), datetime.date(2012, 1, 1), datetime.date(2013,1,1)])})\n",
    "x = tenzing_standard_set()\n",
    "x.prep(df)\n",
    "summer = x.summarize(df)\n"
   ]
  },
  {
   "cell_type": "code",
   "execution_count": null,
   "metadata": {},
   "outputs": [],
   "source": [
    "x = tenzing_standard_set()\n",
    "x.prep(df)\n",
    "y = x.summary_report(df)\n",
    "y"
   ]
  },
  {
   "cell_type": "code",
   "execution_count": null,
   "metadata": {},
   "outputs": [],
   "source": [
    "\n",
    "from pandas_profiling import ProfileReport\n",
    "ProfileReport(df)\n"
   ]
  },
  {
   "cell_type": "code",
   "execution_count": null,
   "metadata": {},
   "outputs": [],
   "source": [
    "types = tenzing_standard_set().types\n",
    "series = df['Col 3']\n",
    "[tenzing_type for tenzing_type in types if series in tenzing_type]"
   ]
  },
  {
   "cell_type": "code",
   "execution_count": null,
   "metadata": {},
   "outputs": [],
   "source": [
    "x.relation_map"
   ]
  },
  {
   "cell_type": "code",
   "execution_count": null,
   "metadata": {},
   "outputs": [],
   "source": [
    "from tenzing.core.models import tenzing_model\n",
    "\n",
    "type(tenzing_model)"
   ]
  },
  {
   "cell_type": "code",
   "execution_count": null,
   "metadata": {},
   "outputs": [],
   "source": [
    "tenzing_integer"
   ]
  },
  {
   "cell_type": "code",
   "execution_count": null,
   "metadata": {},
   "outputs": [],
   "source": [
    "import pandas as pd\n",
    "import numpy as np\n",
    "x = pd.Series([1,2,3, np.nan])\n",
    "\n",
    "print(x in tenzing_integer)\n",
    "print(x in tenzing_float)"
   ]
  },
  {
   "cell_type": "code",
   "execution_count": null,
   "metadata": {},
   "outputs": [],
   "source": [
    "int_float_relation = model_relation(tenzing_float, lambda x: False, lambda x: False)\n",
    "tenzing_float.register_relation(int_float_relation)"
   ]
  },
  {
   "cell_type": "code",
   "execution_count": null,
   "metadata": {},
   "outputs": [],
   "source": [
    "import numpy as np\n",
    "\n",
    "x = pd.Series(list(range(10000)))\n",
    "%timeit x.astype(np.float)\n",
    "%timeit x.astype(float)"
   ]
  },
  {
   "cell_type": "code",
   "execution_count": null,
   "metadata": {},
   "outputs": [],
   "source": [
    "x.astype(int).nbytes"
   ]
  },
  {
   "cell_type": "code",
   "execution_count": null,
   "metadata": {},
   "outputs": [],
   "source": [
    "test_series = pd.Series([pd.datetime(2010, 1, 1), pd.datetime(2010, 8, 2), pd.datetime(2011, 2, 1), np.nan])\n",
    "tenzing_timestamp.summarize(test_series)"
   ]
  },
  {
   "cell_type": "code",
   "execution_count": null,
   "metadata": {},
   "outputs": [],
   "source": [
    "root_types = [tenzing_bool, tenzing_float, tenzing_object,\n",
    "                      tenzing_complex, tenzing_categorical, tenzing_timestamp,\n",
    "                      tenzing_integer]"
   ]
  },
  {
   "cell_type": "code",
   "execution_count": null,
   "metadata": {},
   "outputs": [],
   "source": [
    "[node.edge for s_node in root_types for to, node in s_node.relations.items()]"
   ]
  },
  {
   "cell_type": "code",
   "execution_count": null,
   "metadata": {},
   "outputs": [],
   "source": [
    "root_types[-1].relations.items()"
   ]
  },
  {
   "cell_type": "code",
   "execution_count": null,
   "metadata": {},
   "outputs": [],
   "source": [
    "root_types"
   ]
  },
  {
   "cell_type": "code",
   "execution_count": null,
   "metadata": {},
   "outputs": [],
   "source": [
    "pd.Series(['1.0', '2.0']).astype(float)"
   ]
  },
  {
   "cell_type": "code",
   "execution_count": null,
   "metadata": {},
   "outputs": [],
   "source": [
    "series = pd.Series([1.0, 2.0, np.nan]).astype('str')\n",
    "#series = pd.Series(range(20)).astype('str')"
   ]
  },
  {
   "cell_type": "code",
   "execution_count": null,
   "metadata": {},
   "outputs": [],
   "source": [
    "from tenzing.core.typesets import infer_type, traverse_relation_graph, build_relation_graph\n",
    "from tenzing.core.model_implementations.typesets import tenzing_standard_set\n",
    "\n",
    "G = tenzing_standard_set().relation_map"
   ]
  },
  {
   "cell_type": "code",
   "execution_count": null,
   "metadata": {},
   "outputs": [],
   "source": [
    "series_type = traverse_relation_graph(series, G)\n",
    "inferred_type = infer_type(series_type, series, G)"
   ]
  },
  {
   "cell_type": "code",
   "execution_count": null,
   "metadata": {},
   "outputs": [],
   "source": [
    "series_type"
   ]
  },
  {
   "cell_type": "code",
   "execution_count": null,
   "metadata": {},
   "outputs": [],
   "source": [
    "inferred_type"
   ]
  },
  {
   "cell_type": "code",
   "execution_count": null,
   "metadata": {},
   "outputs": [],
   "source": [
    "def infer_type(base_type, series, G):\n",
    "    print(series.dtype)\n",
    "    for tenz_type in G.successors(base_type):\n",
    "        relation = G[base_type][tenz_type]['relationship']\n",
    "        if relation.is_relation(series):\n",
    "            new_series = relation.transform(series)\n",
    "            return infer_type(tenz_type, new_series, G)\n",
    "    return base_type\n",
    "infer_type(tenzing_string, series, G)"
   ]
  },
  {
   "cell_type": "code",
   "execution_count": null,
   "metadata": {},
   "outputs": [],
   "source": [
    "G[tenzing_float][tenzing_string]['relationship'].transformer"
   ]
  },
  {
   "cell_type": "code",
   "execution_count": null,
   "metadata": {},
   "outputs": [],
   "source": [
    "relation = G[tenzing_string][tenzing_float]['relationship']\n",
    "\n",
    "ns = relation.friend_model.get_series(series)\n",
    "relation.transform(ns)"
   ]
  },
  {
   "cell_type": "code",
   "execution_count": null,
   "metadata": {},
   "outputs": [],
   "source": []
  },
  {
   "cell_type": "code",
   "execution_count": null,
   "metadata": {},
   "outputs": [],
   "source": [
    "from tenzing.utils import singleton, test_utils\n",
    "class model_relation:\n",
    "    \"\"\"\n",
    "    Hub and spoke model - these are relationships of the form\n",
    "    friend_model -> model of model_relation\n",
    "\n",
    "    \"\"\"\n",
    "    def __init__(self, model, friend_model, relationship=None, transformer=None):\n",
    "        self.model = model\n",
    "        self.friend_model = friend_model\n",
    "        self.edge = (self.friend_model, self.model)\n",
    "        self.relationship = relationship if relationship else self.model.__contains__\n",
    "        self.transformer = transformer if transformer else self.model.cast\n",
    "\n",
    "    def is_relation(self, obj):\n",
    "        return self.relationship(self.friend_model.get_series(obj))\n",
    "\n",
    "    def transform(self, obj):\n",
    "        return self.transformer(self.friend_model.get_series(obj))\n",
    "\n",
    "r = model_relation(tenzing_string, tenzing_object)\n",
    "ns = r.friend_model.get_series(series)\n",
    "ns.astype(str)"
   ]
  },
  {
   "cell_type": "code",
   "execution_count": null,
   "metadata": {},
   "outputs": [],
   "source": [
    "series.astype('object')"
   ]
  },
  {
   "cell_type": "code",
   "execution_count": null,
   "metadata": {},
   "outputs": [],
   "source": [
    "nx.draw_kamada_kawai(G, with_labels=True)"
   ]
  },
  {
   "cell_type": "code",
   "execution_count": null,
   "metadata": {},
   "outputs": [],
   "source": [
    "G[tenzing_object]"
   ]
  },
  {
   "cell_type": "code",
   "execution_count": null,
   "metadata": {},
   "outputs": [],
   "source": []
  }
 ],
 "metadata": {
  "kernelspec": {
   "display_name": "Python 3",
   "language": "python",
   "name": "python3"
  },
  "language_info": {
   "codemirror_mode": {
    "name": "ipython",
    "version": 3
   },
   "file_extension": ".py",
   "mimetype": "text/x-python",
   "name": "python",
   "nbconvert_exporter": "python",
   "pygments_lexer": "ipython3",
   "version": "3.7.4"
  }
 },
 "nbformat": 4,
 "nbformat_minor": 4
}
