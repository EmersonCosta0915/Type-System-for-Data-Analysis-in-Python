{
 "cells": [
  {
   "cell_type": "code",
   "execution_count": 35,
   "metadata": {},
   "outputs": [
    {
     "name": "stdout",
     "output_type": "stream",
     "text": [
      "The autoreload extension is already loaded. To reload it, use:\n",
      "  %reload_ext autoreload\n"
     ]
    }
   ],
   "source": [
    "import tenzing\n",
    "from tenzing.core.models import model_relation\n",
    "from tenzing.core.typesets import tenzing_typeset, tenzingTypeset\n",
    "from tenzing.core.model_implementations import *\n",
    "from collections import Counter\n",
    "import pandas as pd\n",
    "import numpy as np\n",
    "from shapely import wkt\n",
    "import datetime\n",
    "from IPython.core.display import display, HTML\n",
    "import networkx as nx\n",
    "import itertools\n",
    "%load_ext autoreload\n",
    "%autoreload 2"
   ]
  },
  {
   "cell_type": "code",
   "execution_count": 36,
   "metadata": {},
   "outputs": [
    {
     "data": {
      "text/plain": [
       "tenzing_integer"
      ]
     },
     "execution_count": 36,
     "metadata": {},
     "output_type": "execute_result"
    }
   ],
   "source": [
    "def build_relation_graph(root_nodes, derivative_nodes):\n",
    "    relation_graph = nx.DiGraph()\n",
    "    relation_graph.add_node('root')\n",
    "    relation_graph.add_nodes_from(root_nodes)\n",
    "    relation_graph.add_edges_from(itertools.product(['root'], root_nodes))\n",
    "    relation_graph.add_nodes_from(derivative_nodes)\n",
    "    relation_graph.add_edges_from(node.edge for s_node in root_nodes for to_node, node in s_node.relations.items())\n",
    "    relation_graph.add_edges_from(node.edge for s_node in derivative_nodes for to_node, node in s_node.relations.items())\n",
    "\n",
    "    cycles = list(nx.simple_cycles(relation_graph))\n",
    "    assert len(cycles) == 0, f'Cyclical relations between types {cycles} detected'\n",
    "    return relation_graph\n",
    "\n",
    "root_nodes = [tenzing_bool, tenzing_float, tenzing_object,\n",
    "              tenzing_complex, tenzing_categorical, tenzing_timestamp,\n",
    "              tenzing_integer]\n",
    "derivative_types = [tenzing_string]\n",
    "\n",
    "G = build_relation_graph(root_types, derivative_types)\n",
    "\n",
    "def traverse_relation_graph(series, G, node='root'):\n",
    "    successors = list(G.successors(node))\n",
    "    if not successors:\n",
    "        return node\n",
    "\n",
    "    for tenz_type in successors:\n",
    "        if series in tenz_type:\n",
    "            return traverse_relation_graph(series, G, tenz_type)\n",
    "\n",
    "series = pd.Series([2.0 * i for i in range(3)])\n",
    "traverse_relation_graph(series, G)"
   ]
  },
  {
   "cell_type": "code",
   "execution_count": 37,
   "metadata": {},
   "outputs": [
    {
     "data": {
      "text/plain": [
       "0    0.0\n",
       "1    2.0\n",
       "2    4.0\n",
       "dtype: float64"
      ]
     },
     "execution_count": 37,
     "metadata": {},
     "output_type": "execute_result"
    }
   ],
   "source": [
    "series"
   ]
  },
  {
   "cell_type": "code",
   "execution_count": 38,
   "metadata": {},
   "outputs": [],
   "source": [
    "from tenzing.core.model_implementations.typesets import tenzing_standard\n",
    "\n",
    "df = pd.DataFrame({'Col 1': range(3), \n",
    "                   'Col 2': [2 * i for i in range(3)], \n",
    "                   'Col 3': ['howdy', 'howdy', 'doody'],\n",
    "                   'times': pd.to_datetime([datetime.date(2011,1,1), datetime.date(2012, 1, 1), datetime.date(2013,1,1)])})\n",
    "x = tenzing_standard()\n",
    "x.prep(df)\n",
    "summer = x.summarize(df)\n"
   ]
  },
  {
   "cell_type": "code",
   "execution_count": 40,
   "metadata": {},
   "outputs": [
    {
     "data": {
      "text/html": [
       "\n",
       "<meta charset=\"UTF-8\">\n",
       "\n",
       "<style>\n",
       "        .variablerow {\n",
       "            border: 1px solid #e1e1e8;\n",
       "            border-top: hidden;\n",
       "            padding-top: 2em;\n",
       "            padding-bottom: 2em;\n",
       "            padding-left: 1em;\n",
       "            padding-right: 1em;\n",
       "        }\n",
       "        .headerrow {\n",
       "            border: 1px solid #e1e1e8;\n",
       "            background-color: #f5f5f5;\n",
       "            padding: 2em;\n",
       "        }\n",
       "        .namecol {\n",
       "            margin-top: -1em;\n",
       "            overflow-x: auto;\n",
       "        }\n",
       "        .dl-horizontal dt {\n",
       "            text-align: left;\n",
       "            padding-right: 1em;\n",
       "            white-space: normal;\n",
       "        }\n",
       "        .dl-horizontal dd {\n",
       "            margin-left: 0;\n",
       "        }\n",
       "        .ignore {\n",
       "            opacity: 0.4;\n",
       "        }\n",
       "        .container.pandas-profiling {\n",
       "            max-width:975px;\n",
       "        }\n",
       "        .col-md-12 {\n",
       "            padding-left: 2em;\n",
       "        }\n",
       "        .indent {\n",
       "            margin-left: 1em;\n",
       "        }\n",
       "        .center-img {\n",
       "            margin-left: auto !important;\n",
       "            margin-right: auto !important;\n",
       "            display: block;\n",
       "        }\n",
       "        /* Table example_values */\n",
       "            table.example_values {\n",
       "                border: 0;\n",
       "            }\n",
       "            .example_values th {\n",
       "                border: 0;\n",
       "                padding: 0 ;\n",
       "                color: #555;\n",
       "                font-weight: 600;\n",
       "            }\n",
       "            .example_values tr, .example_values td{\n",
       "                border: 0;\n",
       "                padding: 0;\n",
       "                color: #555;\n",
       "            }\n",
       "        /* STATS */\n",
       "            table.stats {\n",
       "                border: 0;\n",
       "            }\n",
       "            .stats th {\n",
       "                border: 0;\n",
       "                padding: 0 2em 0 0;\n",
       "                color: #555;\n",
       "                font-weight: 600;\n",
       "            }\n",
       "            .stats tr {\n",
       "                border: 0;\n",
       "            }\n",
       "            .stats td{\n",
       "                color: #555;\n",
       "                padding: 1px;\n",
       "                border: 0;\n",
       "            }\n",
       "        /* Sample table */\n",
       "            table.sample {\n",
       "                border: 0;\n",
       "                margin-bottom: 2em;\n",
       "                margin-left:1em;\n",
       "            }\n",
       "            .sample tr {\n",
       "                border:0;\n",
       "            }\n",
       "            .sample td, .sample th{\n",
       "                padding: 0.5em;\n",
       "                white-space: nowrap;\n",
       "                border: none;\n",
       "            }\n",
       "            .sample thead {\n",
       "                border-top: 0;\n",
       "                border-bottom: 2px solid #ddd;\n",
       "            }\n",
       "            .sample td {\n",
       "                width:100%;\n",
       "            }\n",
       "        /* There is no good solution available to make the divs equal height and then center ... */\n",
       "            .histogram {\n",
       "                margin-top: 3em;\n",
       "            }\n",
       "        /* Freq table */\n",
       "            table.freq {\n",
       "                margin-bottom: 2em;\n",
       "                border: 0;\n",
       "            }\n",
       "            table.freq th, table.freq tr, table.freq td {\n",
       "                border: 0;\n",
       "                padding: 0;\n",
       "            }\n",
       "            .freq thead {\n",
       "                font-weight: 600;\n",
       "                white-space: nowrap;\n",
       "                overflow: hidden;\n",
       "                text-overflow: ellipsis;\n",
       "            }\n",
       "            td.fillremaining{\n",
       "                width:auto;\n",
       "                max-width: none;\n",
       "            }\n",
       "            td.number, th.number {\n",
       "                text-align:right ;\n",
       "            }\n",
       "        /* Freq mini */\n",
       "            .freq.mini td{\n",
       "                width: 50%;\n",
       "                padding: 1px;\n",
       "                font-size: 12px;\n",
       "            }\n",
       "            table.freq.mini {\n",
       "                 width:100%;\n",
       "            }\n",
       "            .freq.mini th {\n",
       "                overflow: hidden;\n",
       "                text-overflow: ellipsis;\n",
       "                white-space: nowrap;\n",
       "                max-width: 5em;\n",
       "                font-weight: 400;\n",
       "                text-align:right;\n",
       "                padding-right: 0.5em;\n",
       "            }\n",
       "            .missing {\n",
       "                color: #a94442;\n",
       "            }\n",
       "            .alert, .alert > th, .alert > td {\n",
       "                color: #a94442;\n",
       "            }\n",
       "        /* Bars in tables */\n",
       "            .freq .bar{\n",
       "                float: left;\n",
       "                width: 0;\n",
       "                height: 100%;\n",
       "                line-height: 20px;\n",
       "                color: #fff;\n",
       "                text-align: center;\n",
       "                background-color: #337ab7;\n",
       "                border-radius: 3px;\n",
       "                margin-right: 4px;\n",
       "            }\n",
       "            .other .bar {\n",
       "                background-color: #999;\n",
       "            }\n",
       "            .missing .bar{\n",
       "                background-color: #a94442;\n",
       "            }\n",
       "            .tooltip-inner {\n",
       "                width: 100%;\n",
       "                white-space: nowrap;\n",
       "                text-align:left;\n",
       "            }\n",
       "            .extrapadding{\n",
       "                padding: 2em;\n",
       "            }\n",
       "            .pp-anchor{\n",
       "            }\n",
       "</style>\n",
       "\n",
       "<div class=\"container pandas-profiling\">\n",
       "        <div class=\"row headerrow highlight\">\n",
       "            <h1>Overview</h1>\n",
       "        </div>\n",
       "        <div class=\"row variablerow\">\n",
       "            <div class=\"col-md-6 namecol\">\n",
       "    <p class=\"h4\">Dataset Info</p>\n",
       "    <table class=\"stats\" style=\"margin-left: 1em;\">\n",
       "        <tbody>\n",
       "            <tr>\n",
       "                <th>Number of Observations</th>\n",
       "                <td>3</td>\n",
       "            </tr>\n",
       "            <tr>\n",
       "                <th>Number of Variables</th>\n",
       "                <td>4</td>\n",
       "            </tr>\n",
       "        </tbody>\n",
       "    </table>\n",
       "    <br>\n",
       "</div>\n",
       "            <div class=\"col-md-6 namecol\">\n",
       "    <p class=\"h4\">Variable types</p>\n",
       "    <table class=\"stats\" style=\"margin-left: 1em;\">\n",
       "        <tbody>\n",
       "            <tr>\n",
       "                <th>tenzing_integer</th>\n",
       "                <td>2</td>\n",
       "            </tr>\n",
       "            <tr>\n",
       "                <th>tenzing_object</th>\n",
       "                <td>1</td>\n",
       "            </tr>\n",
       "            <tr>\n",
       "                <th>tenzing_timestamp</th>\n",
       "                <td>1</td>\n",
       "            </tr>\n",
       "        </tbody>\n",
       "    </table>\n",
       "    <br>\n",
       "</div>\n",
       "</div>\n",
       "        <div class=\"row headerrow highlight\">\n",
       "            <h1>Variable Statistics</h1>\n",
       "        </div>\n",
       "        <div class=\"row variablerow\">\n",
       "            <div class=\"row variablerow\">\n",
       "            Col 1\n",
       "            <div class=\"col-md-6 namecol\">\n",
       "    <p class=\"h4\">tenzing_integer</p>\n",
       "    <table class=\"stats\" style=\"margin-left: 1em;\">\n",
       "        <tbody>\n",
       "            <tr>\n",
       "                <th>nunique</th>\n",
       "                <td>3.0</td>\n",
       "            </tr>\n",
       "            <tr>\n",
       "                <th>mean</th>\n",
       "                <td>1.0</td>\n",
       "            </tr>\n",
       "            <tr>\n",
       "                <th>std</th>\n",
       "                <td>1.0</td>\n",
       "            </tr>\n",
       "            <tr>\n",
       "                <th>max</th>\n",
       "                <td>2.0</td>\n",
       "            </tr>\n",
       "            <tr>\n",
       "                <th>min</th>\n",
       "                <td>0.0</td>\n",
       "            </tr>\n",
       "            <tr>\n",
       "                <th>median</th>\n",
       "                <td>1.0</td>\n",
       "            </tr>\n",
       "            <tr>\n",
       "                <th>n_records</th>\n",
       "                <td>3</td>\n",
       "            </tr>\n",
       "            <tr>\n",
       "                <th>n_zeros</th>\n",
       "                <td>1</td>\n",
       "            </tr>\n",
       "            <tr>\n",
       "                <th>perc_zeros</th>\n",
       "                <td>0.33</td>\n",
       "            </tr>\n",
       "            <tr>\n",
       "                <th>na_count</th>\n",
       "                <td>0</td>\n",
       "            </tr>\n",
       "            <tr>\n",
       "                <th>perc_na</th>\n",
       "                <td>0.0</td>\n",
       "            </tr>\n",
       "        </tbody>\n",
       "    </table>\n",
       "    <br>\n",
       "</div>\n",
       "            Col 2\n",
       "            <div class=\"col-md-6 namecol\">\n",
       "    <p class=\"h4\">tenzing_integer</p>\n",
       "    <table class=\"stats\" style=\"margin-left: 1em;\">\n",
       "        <tbody>\n",
       "            <tr>\n",
       "                <th>nunique</th>\n",
       "                <td>3.0</td>\n",
       "            </tr>\n",
       "            <tr>\n",
       "                <th>mean</th>\n",
       "                <td>2.0</td>\n",
       "            </tr>\n",
       "            <tr>\n",
       "                <th>std</th>\n",
       "                <td>2.0</td>\n",
       "            </tr>\n",
       "            <tr>\n",
       "                <th>max</th>\n",
       "                <td>4.0</td>\n",
       "            </tr>\n",
       "            <tr>\n",
       "                <th>min</th>\n",
       "                <td>0.0</td>\n",
       "            </tr>\n",
       "            <tr>\n",
       "                <th>median</th>\n",
       "                <td>2.0</td>\n",
       "            </tr>\n",
       "            <tr>\n",
       "                <th>n_records</th>\n",
       "                <td>3</td>\n",
       "            </tr>\n",
       "            <tr>\n",
       "                <th>n_zeros</th>\n",
       "                <td>1</td>\n",
       "            </tr>\n",
       "            <tr>\n",
       "                <th>perc_zeros</th>\n",
       "                <td>0.33</td>\n",
       "            </tr>\n",
       "            <tr>\n",
       "                <th>na_count</th>\n",
       "                <td>0</td>\n",
       "            </tr>\n",
       "            <tr>\n",
       "                <th>perc_na</th>\n",
       "                <td>0.0</td>\n",
       "            </tr>\n",
       "        </tbody>\n",
       "    </table>\n",
       "    <br>\n",
       "</div>\n",
       "            Col 3\n",
       "            <div class=\"col-md-6 namecol\">\n",
       "    <p class=\"h4\">tenzing_object</p>\n",
       "    <table class=\"stats\" style=\"margin-left: 1em;\">\n",
       "        <tbody>\n",
       "            <tr>\n",
       "                <th>nunique</th>\n",
       "                <td>2</td>\n",
       "            </tr>\n",
       "            <tr>\n",
       "                <th>frequencies</th>\n",
       "                <td>{'howdy': 2, 'doody': 1}</td>\n",
       "            </tr>\n",
       "            <tr>\n",
       "                <th>n_records</th>\n",
       "                <td>3</td>\n",
       "            </tr>\n",
       "            <tr>\n",
       "                <th>na_count</th>\n",
       "                <td>0</td>\n",
       "            </tr>\n",
       "            <tr>\n",
       "                <th>perc_na</th>\n",
       "                <td>0.0</td>\n",
       "            </tr>\n",
       "        </tbody>\n",
       "    </table>\n",
       "    <br>\n",
       "</div>\n",
       "            times\n",
       "            <div class=\"col-md-6 namecol\">\n",
       "    <p class=\"h4\">tenzing_timestamp</p>\n",
       "    <table class=\"stats\" style=\"margin-left: 1em;\">\n",
       "        <tbody>\n",
       "            <tr>\n",
       "                <th>nunique</th>\n",
       "                <td>3</td>\n",
       "            </tr>\n",
       "            <tr>\n",
       "                <th>min</th>\n",
       "                <td>2011-01-01 00:00:00</td>\n",
       "            </tr>\n",
       "            <tr>\n",
       "                <th>max</th>\n",
       "                <td>2013-01-01 00:00:00</td>\n",
       "            </tr>\n",
       "            <tr>\n",
       "                <th>n_records</th>\n",
       "                <td>3</td>\n",
       "            </tr>\n",
       "            <tr>\n",
       "                <th>perc_unique</th>\n",
       "                <td>1.0</td>\n",
       "            </tr>\n",
       "            <tr>\n",
       "                <th>range</th>\n",
       "                <td>731 days 00:00:00</td>\n",
       "            </tr>\n",
       "            <tr>\n",
       "                <th>na_count</th>\n",
       "                <td>0</td>\n",
       "            </tr>\n",
       "            <tr>\n",
       "                <th>perc_na</th>\n",
       "                <td>0.0</td>\n",
       "            </tr>\n",
       "        </tbody>\n",
       "    </table>\n",
       "    <br>\n",
       "</div>\n",
       "</div>\n",
       "</div>\n",
       "    <!--\n",
       "    \n",
       "    <div class=\"row headerrow highlight\">\n",
       "        <h1>Variables</h1>\n",
       "    </div>\n",
       "    \n",
       "    <div class=\"row headerrow highlight\">\n",
       "        <h1>Correlations</h1>\n",
       "    </div>\n",
       "    \n",
       "    <div class=\"row headerrow highlight\">\n",
       "        <h1>Sample</h1>\n",
       "    </div>\n",
       "    \n",
       "    -->\n",
       "</div>"
      ],
      "text/plain": [
       "<tenzing.summary.summary_report at 0xa1a23d5c0>"
      ]
     },
     "execution_count": 40,
     "metadata": {},
     "output_type": "execute_result"
    }
   ],
   "source": [
    "x = tenzing_standard()\n",
    "x.prep(df)\n",
    "y = x.summary_report(df)\n",
    "y"
   ]
  },
  {
   "cell_type": "code",
   "execution_count": null,
   "metadata": {},
   "outputs": [],
   "source": [
    "\n",
    "from pandas_profiling import ProfileReport\n",
    "ProfileReport(df)\n"
   ]
  },
  {
   "cell_type": "code",
   "execution_count": null,
   "metadata": {},
   "outputs": [],
   "source": [
    "types = tenzing_standard().types\n",
    "series = df['Col 3']\n",
    "[tenzing_type for tenzing_type in types if series in tenzing_type]"
   ]
  },
  {
   "cell_type": "code",
   "execution_count": null,
   "metadata": {},
   "outputs": [],
   "source": [
    "x.relation_map"
   ]
  },
  {
   "cell_type": "code",
   "execution_count": null,
   "metadata": {},
   "outputs": [],
   "source": [
    "from tenzing.core.models import tenzing_model\n",
    "\n",
    "type(tenzing_model)"
   ]
  },
  {
   "cell_type": "code",
   "execution_count": null,
   "metadata": {},
   "outputs": [],
   "source": [
    "tenzing_integer"
   ]
  },
  {
   "cell_type": "code",
   "execution_count": null,
   "metadata": {},
   "outputs": [],
   "source": [
    "import pandas as pd\n",
    "import numpy as np\n",
    "x = pd.Series([1,2,3, np.nan])\n",
    "\n",
    "print(x in tenzing_integer)\n",
    "print(x in tenzing_float)"
   ]
  },
  {
   "cell_type": "code",
   "execution_count": null,
   "metadata": {},
   "outputs": [],
   "source": [
    "int_float_relation = model_relation(tenzing_float, lambda x: False, lambda x: False)\n",
    "tenzing_float.register_relation(int_float_relation)"
   ]
  },
  {
   "cell_type": "code",
   "execution_count": 3,
   "metadata": {},
   "outputs": [
    {
     "name": "stdout",
     "output_type": "stream",
     "text": [
      "103 µs ± 9.1 µs per loop (mean ± std. dev. of 7 runs, 10000 loops each)\n",
      "99.5 µs ± 4.77 µs per loop (mean ± std. dev. of 7 runs, 10000 loops each)\n"
     ]
    }
   ],
   "source": [
    "import numpy as np\n",
    "\n",
    "x = pd.Series(list(range(10000)))\n",
    "%timeit x.astype(np.float)\n",
    "%timeit x.astype(float)"
   ]
  },
  {
   "cell_type": "code",
   "execution_count": 4,
   "metadata": {},
   "outputs": [
    {
     "data": {
      "text/plain": [
       "80000"
      ]
     },
     "execution_count": 4,
     "metadata": {},
     "output_type": "execute_result"
    }
   ],
   "source": [
    "x.astype(int).nbytes"
   ]
  },
  {
   "cell_type": "code",
   "execution_count": 5,
   "metadata": {},
   "outputs": [
    {
     "data": {
      "text/plain": [
       "{'nunique': 3,\n",
       " 'min': Timestamp('2010-01-01 00:00:00'),\n",
       " 'max': Timestamp('2011-02-01 00:00:00'),\n",
       " 'n_records': 4,\n",
       " 'perc_unique': 1.0,\n",
       " 'range': Timedelta('396 days 00:00:00'),\n",
       " 'na_count': 1,\n",
       " 'perc_na': 0.25}"
      ]
     },
     "execution_count": 5,
     "metadata": {},
     "output_type": "execute_result"
    }
   ],
   "source": [
    "test_series = pd.Series([pd.datetime(2010, 1, 1), pd.datetime(2010, 8, 2), pd.datetime(2011, 2, 1), np.nan])\n",
    "tenzing_timestamp.summarize(test_series)"
   ]
  },
  {
   "cell_type": "code",
   "execution_count": 6,
   "metadata": {},
   "outputs": [],
   "source": [
    "import networkx as nx\n"
   ]
  },
  {
   "cell_type": "code",
   "execution_count": 9,
   "metadata": {},
   "outputs": [
    {
     "data": {
      "text/plain": [
       "['A', 'E']"
      ]
     },
     "execution_count": 9,
     "metadata": {},
     "output_type": "execute_result"
    }
   ],
   "source": [
    "class type_map:\n",
    "    def __init__(self, name, to_node=False):\n",
    "        self.name = name\n",
    "        self.to_node = to_node\n",
    "\n",
    "A = type_map('A', 'B')\n",
    "B = type_map('B', 'C')\n",
    "C = type_map('C', 'D')\n",
    "D = type_map('D')\n",
    "E = type_map('E', 'A')\n",
    "\n",
    "types = [A, B, C, D, E]\n",
    "\n",
    "my_graph = nx.DiGraph()\n",
    "my_graph.add_node('root')\n",
    "for typ in types:\n",
    "    my_graph.add_node(typ.name)\n",
    "\n",
    "for typ in types:\n",
    "    if typ.to_node:\n",
    "        my_graph.add_edge(typ.name, typ.to_node)\n",
    "\n",
    "my_graph.add_edge('root', 'A')\n",
    "my_graph.add_edge('root', 'E') \n",
    "    \n",
    "list(my_graph.successors('root'))"
   ]
  },
  {
   "cell_type": "code",
   "execution_count": 10,
   "metadata": {},
   "outputs": [
    {
     "ename": "AttributeError",
     "evalue": "'DiGraph' object has no attribute 'add_edes_from'",
     "output_type": "error",
     "traceback": [
      "\u001b[0;31m---------------------------------------------------------------------------\u001b[0m",
      "\u001b[0;31mAttributeError\u001b[0m                            Traceback (most recent call last)",
      "\u001b[0;32m<ipython-input-10-c1d46ec0b836>\u001b[0m in \u001b[0;36m<module>\u001b[0;34m\u001b[0m\n\u001b[1;32m      1\u001b[0m \u001b[0mmy_graph\u001b[0m \u001b[0;34m=\u001b[0m \u001b[0mnx\u001b[0m\u001b[0;34m.\u001b[0m\u001b[0mDiGraph\u001b[0m\u001b[0;34m(\u001b[0m\u001b[0;34m)\u001b[0m\u001b[0;34m\u001b[0m\u001b[0;34m\u001b[0m\u001b[0m\n\u001b[1;32m      2\u001b[0m \u001b[0mmy_graph\u001b[0m\u001b[0;34m.\u001b[0m\u001b[0madd_nodes_from\u001b[0m\u001b[0;34m(\u001b[0m\u001b[0mtypes\u001b[0m\u001b[0;34m)\u001b[0m\u001b[0;34m\u001b[0m\u001b[0;34m\u001b[0m\u001b[0m\n\u001b[0;32m----> 3\u001b[0;31m \u001b[0mmy_graph\u001b[0m\u001b[0;34m.\u001b[0m\u001b[0madd_edes_from\u001b[0m\u001b[0;34m\u001b[0m\u001b[0;34m\u001b[0m\u001b[0m\n\u001b[0m",
      "\u001b[0;31mAttributeError\u001b[0m: 'DiGraph' object has no attribute 'add_edes_from'"
     ]
    }
   ],
   "source": [
    "my_graph = nx.DiGraph()\n",
    "my_graph.add_nodes_from(types)\n",
    "my_graph.add_edes_from"
   ]
  },
  {
   "cell_type": "code",
   "execution_count": 11,
   "metadata": {},
   "outputs": [
    {
     "data": {
      "text/plain": [
       "[(<__main__.type_map at 0xa1609a2b0>, 'A'),\n",
       " (<__main__.type_map at 0xa1609a320>, 'A'),\n",
       " (<__main__.type_map at 0xa1609a358>, 'A'),\n",
       " (<__main__.type_map at 0xa1609a278>, 'A'),\n",
       " (<__main__.type_map at 0xa1609a390>, 'A')]"
      ]
     },
     "execution_count": 11,
     "metadata": {},
     "output_type": "execute_result"
    }
   ],
   "source": [
    "import itertools\n",
    "list(itertools.product(types, 'A'))"
   ]
  },
  {
   "cell_type": "code",
   "execution_count": 12,
   "metadata": {},
   "outputs": [
    {
     "data": {
      "text/plain": [
       "[]"
      ]
     },
     "execution_count": 12,
     "metadata": {},
     "output_type": "execute_result"
    }
   ],
   "source": [
    "list(nx.simple_cycles(my_graph))"
   ]
  },
  {
   "cell_type": "code",
   "execution_count": 13,
   "metadata": {},
   "outputs": [],
   "source": [
    "root_types = [tenzing_bool, tenzing_float, tenzing_object,\n",
    "                      tenzing_complex, tenzing_categorical, tenzing_timestamp,\n",
    "                      tenzing_integer]"
   ]
  },
  {
   "cell_type": "code",
   "execution_count": 14,
   "metadata": {},
   "outputs": [
    {
     "data": {
      "text/plain": [
       "[(tenzing_float, tenzing_integer)]"
      ]
     },
     "execution_count": 14,
     "metadata": {},
     "output_type": "execute_result"
    }
   ],
   "source": [
    "[node.edge for s_node in root_types for to, node in s_node.relations.items()]"
   ]
  },
  {
   "cell_type": "code",
   "execution_count": 15,
   "metadata": {},
   "outputs": [
    {
     "data": {
      "text/plain": [
       "dict_items([(tenzing_float, <tenzing.core.models.model_relation object at 0x113fdbd30>)])"
      ]
     },
     "execution_count": 15,
     "metadata": {},
     "output_type": "execute_result"
    }
   ],
   "source": [
    "root_types[-1].relations.items()"
   ]
  },
  {
   "cell_type": "code",
   "execution_count": 16,
   "metadata": {},
   "outputs": [
    {
     "data": {
      "text/plain": [
       "[tenzing_bool,\n",
       " tenzing_float,\n",
       " tenzing_object,\n",
       " tenzing_complex,\n",
       " tenzing_categorical,\n",
       " tenzing_timestamp,\n",
       " tenzing_integer]"
      ]
     },
     "execution_count": 16,
     "metadata": {},
     "output_type": "execute_result"
    }
   ],
   "source": [
    "root_types"
   ]
  },
  {
   "cell_type": "code",
   "execution_count": null,
   "metadata": {},
   "outputs": [],
   "source": []
  }
 ],
 "metadata": {
  "kernelspec": {
   "display_name": "Python 3",
   "language": "python",
   "name": "python3"
  },
  "language_info": {
   "codemirror_mode": {
    "name": "ipython",
    "version": 3
   },
   "file_extension": ".py",
   "mimetype": "text/x-python",
   "name": "python",
   "nbconvert_exporter": "python",
   "pygments_lexer": "ipython3",
   "version": "3.7.2"
  }
 },
 "nbformat": 4,
 "nbformat_minor": 2
}
